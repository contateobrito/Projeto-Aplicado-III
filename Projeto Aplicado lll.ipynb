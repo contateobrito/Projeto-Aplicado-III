{
 "cells": [
  {
   "cell_type": "code",
   "execution_count": 1,
   "id": "0cb693aa-a795-4d15-befd-59fe5fd965db",
   "metadata": {},
   "outputs": [
    {
     "data": {
      "text/html": [
       "<svg  width=\"330\" height=\"55\"><rect x=\"0\" y=\"0\" width=\"55\" height=\"55\" style=\"fill:#46327e;stroke-width:2;stroke:rgb(255,255,255)\"/><rect x=\"55\" y=\"0\" width=\"55\" height=\"55\" style=\"fill:#365c8d;stroke-width:2;stroke:rgb(255,255,255)\"/><rect x=\"110\" y=\"0\" width=\"55\" height=\"55\" style=\"fill:#277f8e;stroke-width:2;stroke:rgb(255,255,255)\"/><rect x=\"165\" y=\"0\" width=\"55\" height=\"55\" style=\"fill:#1fa187;stroke-width:2;stroke:rgb(255,255,255)\"/><rect x=\"220\" y=\"0\" width=\"55\" height=\"55\" style=\"fill:#4ac16d;stroke-width:2;stroke:rgb(255,255,255)\"/><rect x=\"275\" y=\"0\" width=\"55\" height=\"55\" style=\"fill:#a0da39;stroke-width:2;stroke:rgb(255,255,255)\"/></svg>"
      ],
      "text/plain": [
       "[(0.275191, 0.194905, 0.496005),\n",
       " (0.212395, 0.359683, 0.55171),\n",
       " (0.153364, 0.497, 0.557724),\n",
       " (0.122312, 0.633153, 0.530398),\n",
       " (0.288921, 0.758394, 0.428426),\n",
       " (0.626579, 0.854645, 0.223353)]"
      ]
     },
     "execution_count": 1,
     "metadata": {},
     "output_type": "execute_result"
    }
   ],
   "source": [
    "#from google.cloud import bigquery\n",
    "import pandas as pd\n",
    "import numpy as np\n",
    "import matplotlib.pyplot as plt\n",
    "import seaborn as sns\n",
    "import plotly.graph_objects as go\n",
    "import plotly.express as px\n",
    "import plotly.colors as pc\n",
    "#import scipy.stats as stats\n",
    "import re\n",
    "\n",
    "import os\n",
    "os.environ[\"GOOGLE_APPLICATION_CREDENTIALS\"] = \"composite-keel-371920-24c2737df989.json\"\n",
    "\n",
    "import warnings\n",
    "warnings.filterwarnings('ignore')\n",
    "\n",
    "# Configurando objetos Pandas DataFrame e Numpy Arrays para exibirem todas as informações\n",
    "np.set_printoptions(threshold=np.inf)\n",
    "pd.set_option('display.max_columns', None)\n",
    "pd.set_option('display.max_rows', None)\n",
    "\n",
    "# Configurando estilo e paleta de cores que serão utilizadas nos gráficos\n",
    "sns.set_theme(style=\"whitegrid\", palette=\"viridis\")\n",
    "sns.color_palette('viridis')"
   ]
  },
  {
   "cell_type": "code",
   "execution_count": 2,
   "id": "1f8518af-0cde-4074-8920-85ad872a8a8e",
   "metadata": {},
   "outputs": [
    {
     "data": {
      "text/html": [
       "<div>\n",
       "<style scoped>\n",
       "    .dataframe tbody tr th:only-of-type {\n",
       "        vertical-align: middle;\n",
       "    }\n",
       "\n",
       "    .dataframe tbody tr th {\n",
       "        vertical-align: top;\n",
       "    }\n",
       "\n",
       "    .dataframe thead th {\n",
       "        text-align: right;\n",
       "    }\n",
       "</style>\n",
       "<table border=\"1\" class=\"dataframe\">\n",
       "  <thead>\n",
       "    <tr style=\"text-align: right;\">\n",
       "      <th></th>\n",
       "      <th>ISBN</th>\n",
       "      <th>Book-Title</th>\n",
       "      <th>Book-Author</th>\n",
       "      <th>Year-Of-Publication</th>\n",
       "      <th>Publisher</th>\n",
       "      <th>Image-URL-S</th>\n",
       "      <th>Image-URL-M</th>\n",
       "      <th>Image-URL-L</th>\n",
       "    </tr>\n",
       "  </thead>\n",
       "  <tbody>\n",
       "    <tr>\n",
       "      <th>195124</th>\n",
       "      <td>0374218986</td>\n",
       "      <td>The Nanny and the Iceberg</td>\n",
       "      <td>Ariel Dorfman</td>\n",
       "      <td>1999</td>\n",
       "      <td>Farrar Straus &amp;amp; Giroux</td>\n",
       "      <td>http://images.amazon.com/images/P/0374218986.0...</td>\n",
       "      <td>http://images.amazon.com/images/P/0374218986.0...</td>\n",
       "      <td>http://images.amazon.com/images/P/0374218986.0...</td>\n",
       "    </tr>\n",
       "  </tbody>\n",
       "</table>\n",
       "</div>"
      ],
      "text/plain": [
       "              ISBN                 Book-Title    Book-Author  \\\n",
       "195124  0374218986  The Nanny and the Iceberg  Ariel Dorfman   \n",
       "\n",
       "       Year-Of-Publication                   Publisher  \\\n",
       "195124                1999  Farrar Straus &amp; Giroux   \n",
       "\n",
       "                                              Image-URL-S  \\\n",
       "195124  http://images.amazon.com/images/P/0374218986.0...   \n",
       "\n",
       "                                              Image-URL-M  \\\n",
       "195124  http://images.amazon.com/images/P/0374218986.0...   \n",
       "\n",
       "                                              Image-URL-L  \n",
       "195124  http://images.amazon.com/images/P/0374218986.0...  "
      ]
     },
     "metadata": {},
     "output_type": "display_data"
    },
    {
     "name": "stdout",
     "output_type": "stream",
     "text": [
      "<class 'pandas.core.frame.DataFrame'>\n",
      "RangeIndex: 271360 entries, 0 to 271359\n",
      "Data columns (total 8 columns):\n",
      " #   Column               Non-Null Count   Dtype \n",
      "---  ------               --------------   ----- \n",
      " 0   ISBN                 271360 non-null  object\n",
      " 1   Book-Title           271360 non-null  object\n",
      " 2   Book-Author          271358 non-null  object\n",
      " 3   Year-Of-Publication  271360 non-null  object\n",
      " 4   Publisher            271358 non-null  object\n",
      " 5   Image-URL-S          271360 non-null  object\n",
      " 6   Image-URL-M          271360 non-null  object\n",
      " 7   Image-URL-L          271357 non-null  object\n",
      "dtypes: object(8)\n",
      "memory usage: 16.6+ MB\n"
     ]
    }
   ],
   "source": [
    "df_books = pd.read_csv('Books.csv')\n",
    "display(df_books.sample(1))\n",
    "df_books.info()"
   ]
  },
  {
   "cell_type": "code",
   "execution_count": 3,
   "id": "40d853a3-64e8-4359-b622-e5cf2bf060c9",
   "metadata": {},
   "outputs": [
    {
     "data": {
      "text/html": [
       "<div>\n",
       "<style scoped>\n",
       "    .dataframe tbody tr th:only-of-type {\n",
       "        vertical-align: middle;\n",
       "    }\n",
       "\n",
       "    .dataframe tbody tr th {\n",
       "        vertical-align: top;\n",
       "    }\n",
       "\n",
       "    .dataframe thead th {\n",
       "        text-align: right;\n",
       "    }\n",
       "</style>\n",
       "<table border=\"1\" class=\"dataframe\">\n",
       "  <thead>\n",
       "    <tr style=\"text-align: right;\">\n",
       "      <th></th>\n",
       "      <th>User-ID</th>\n",
       "      <th>ISBN</th>\n",
       "      <th>Book-Rating</th>\n",
       "    </tr>\n",
       "  </thead>\n",
       "  <tbody>\n",
       "    <tr>\n",
       "      <th>0</th>\n",
       "      <td>276725</td>\n",
       "      <td>034545104X</td>\n",
       "      <td>0</td>\n",
       "    </tr>\n",
       "    <tr>\n",
       "      <th>1</th>\n",
       "      <td>276726</td>\n",
       "      <td>0155061224</td>\n",
       "      <td>5</td>\n",
       "    </tr>\n",
       "  </tbody>\n",
       "</table>\n",
       "</div>"
      ],
      "text/plain": [
       "   User-ID        ISBN  Book-Rating\n",
       "0   276725  034545104X            0\n",
       "1   276726  0155061224            5"
      ]
     },
     "metadata": {},
     "output_type": "display_data"
    },
    {
     "name": "stdout",
     "output_type": "stream",
     "text": [
      "<class 'pandas.core.frame.DataFrame'>\n",
      "RangeIndex: 1149780 entries, 0 to 1149779\n",
      "Data columns (total 3 columns):\n",
      " #   Column       Non-Null Count    Dtype \n",
      "---  ------       --------------    ----- \n",
      " 0   User-ID      1149780 non-null  int64 \n",
      " 1   ISBN         1149780 non-null  object\n",
      " 2   Book-Rating  1149780 non-null  int64 \n",
      "dtypes: int64(2), object(1)\n",
      "memory usage: 26.3+ MB\n"
     ]
    }
   ],
   "source": [
    "df_ratings = pd.read_csv('Ratings.csv')\n",
    "display(df_ratings.head(2))\n",
    "df_ratings.info()"
   ]
  },
  {
   "cell_type": "code",
   "execution_count": 4,
   "id": "97c995e8-04a7-4c91-8ce1-cc3a36f3e0e1",
   "metadata": {},
   "outputs": [
    {
     "data": {
      "text/html": [
       "<div>\n",
       "<style scoped>\n",
       "    .dataframe tbody tr th:only-of-type {\n",
       "        vertical-align: middle;\n",
       "    }\n",
       "\n",
       "    .dataframe tbody tr th {\n",
       "        vertical-align: top;\n",
       "    }\n",
       "\n",
       "    .dataframe thead th {\n",
       "        text-align: right;\n",
       "    }\n",
       "</style>\n",
       "<table border=\"1\" class=\"dataframe\">\n",
       "  <thead>\n",
       "    <tr style=\"text-align: right;\">\n",
       "      <th></th>\n",
       "      <th>User-ID</th>\n",
       "      <th>Location</th>\n",
       "      <th>Age</th>\n",
       "    </tr>\n",
       "  </thead>\n",
       "  <tbody>\n",
       "    <tr>\n",
       "      <th>120260</th>\n",
       "      <td>120261</td>\n",
       "      <td>monterrey, nuevo leon, mexico</td>\n",
       "      <td>57.0</td>\n",
       "    </tr>\n",
       "    <tr>\n",
       "      <th>123328</th>\n",
       "      <td>123329</td>\n",
       "      <td>corvallis, oregon, usa</td>\n",
       "      <td>NaN</td>\n",
       "    </tr>\n",
       "    <tr>\n",
       "      <th>139253</th>\n",
       "      <td>139254</td>\n",
       "      <td>new windsor, new york, usa</td>\n",
       "      <td>48.0</td>\n",
       "    </tr>\n",
       "    <tr>\n",
       "      <th>200401</th>\n",
       "      <td>200402</td>\n",
       "      <td>campbell, california, usa</td>\n",
       "      <td>35.0</td>\n",
       "    </tr>\n",
       "  </tbody>\n",
       "</table>\n",
       "</div>"
      ],
      "text/plain": [
       "        User-ID                       Location   Age\n",
       "120260   120261  monterrey, nuevo leon, mexico  57.0\n",
       "123328   123329         corvallis, oregon, usa   NaN\n",
       "139253   139254     new windsor, new york, usa  48.0\n",
       "200401   200402      campbell, california, usa  35.0"
      ]
     },
     "metadata": {},
     "output_type": "display_data"
    },
    {
     "name": "stdout",
     "output_type": "stream",
     "text": [
      "<class 'pandas.core.frame.DataFrame'>\n",
      "RangeIndex: 278858 entries, 0 to 278857\n",
      "Data columns (total 3 columns):\n",
      " #   Column    Non-Null Count   Dtype  \n",
      "---  ------    --------------   -----  \n",
      " 0   User-ID   278858 non-null  int64  \n",
      " 1   Location  278858 non-null  object \n",
      " 2   Age       168096 non-null  float64\n",
      "dtypes: float64(1), int64(1), object(1)\n",
      "memory usage: 6.4+ MB\n"
     ]
    }
   ],
   "source": [
    "df_users = pd.read_csv('Users.csv')\n",
    "display(df_users.sample(4))\n",
    "df_users.info()"
   ]
  },
  {
   "cell_type": "markdown",
   "id": "0da131d4-914d-4e87-9548-3ba39c39e147",
   "metadata": {},
   "source": [
    "### Verificação de Dados Nulos"
   ]
  },
  {
   "cell_type": "code",
   "execution_count": 6,
   "id": "595a8901-8ad3-4402-9892-00c65ff1ebcb",
   "metadata": {},
   "outputs": [
    {
     "data": {
      "text/plain": [
       "ISBN                   0.000000\n",
       "Book-Title             0.000000\n",
       "Book-Author            0.000007\n",
       "Year-Of-Publication    0.000000\n",
       "Publisher              0.000007\n",
       "Image-URL-S            0.000000\n",
       "Image-URL-M            0.000000\n",
       "Image-URL-L            0.000011\n",
       "dtype: float64"
      ]
     },
     "execution_count": 6,
     "metadata": {},
     "output_type": "execute_result"
    },
    {
     "data": {
      "image/png": "[encoded data removed]",
      "text/plain": [
       "<Figure size 300x200 with 1 Axes>"
      ]
     },
     "metadata": {},
     "output_type": "display_data"
    }
   ],
   "source": [
    "plt.figure(figsize=(3,2))\n",
    "sns.heatmap(df_books.isnull(),\n",
    "            yticklabels=False,\n",
    "            cbar=False,\n",
    "            cmap='viridis')\n",
    "df_books.isnull().sum() / len(df_books)"
   ]
  },
  {
   "cell_type": "code",
   "execution_count": 7,
   "id": "a5b3e3a4-1a3c-4326-8c9e-90477765b6f6",
   "metadata": {},
   "outputs": [
    {
     "data": {
      "text/plain": [
       "User-ID        0.0\n",
       "ISBN           0.0\n",
       "Book-Rating    0.0\n",
       "dtype: float64"
      ]
     },
     "execution_count": 7,
     "metadata": {},
     "output_type": "execute_result"
    },
    {
     "data": {
      "image/png": "[encoded data removed]",
      "text/plain": [
       "<Figure size 300x200 with 1 Axes>"
      ]
     },
     "metadata": {},
     "output_type": "display_data"
    }
   ],
   "source": [
    "plt.figure(figsize=(3,2))\n",
    "sns.heatmap(df_ratings.isnull(),\n",
    "            yticklabels=False,\n",
    "            cbar=False,\n",
    "            cmap='viridis')\n",
    "df_ratings.isnull().sum() / len(df_ratings)"
   ]
  },
  {
   "cell_type": "code",
   "execution_count": 8,
   "id": "9851fc7d-a3df-440a-9d0f-e6010f9f7873",
   "metadata": {},
   "outputs": [
    {
     "data": {
      "text/plain": [
       "User-ID     0.000000\n",
       "Location    0.000000\n",
       "Age         0.397199\n",
       "dtype: float64"
      ]
     },
     "execution_count": 8,
     "metadata": {},
     "output_type": "execute_result"
    },
    {
     "data": {
      "image/png": "[encoded data removed]",
      "text/plain": [
       "<Figure size 300x200 with 1 Axes>"
      ]
     },
     "metadata": {},
     "output_type": "display_data"
    }
   ],
   "source": [
    "plt.figure(figsize=(3,2))\n",
    "sns.heatmap(df_users.isnull(),\n",
    "            yticklabels=False,\n",
    "            cbar=False,\n",
    "            cmap='viridis')\n",
    "df_users.isnull().sum() / len(df_users)"
   ]
  },
  {
   "cell_type": "markdown",
   "id": "059dc533-fbd5-44f2-86b5-92177c67de02",
   "metadata": {},
   "source": [
    "### Verificação de Dados Infinitos"
   ]
  },
  {
   "cell_type": "code",
   "execution_count": 10,
   "id": "7eb21842-0b53-4259-8dea-37bfea37079a",
   "metadata": {},
   "outputs": [
    {
     "data": {
      "text/plain": [
       "\"plt.figure(figsize=(3,2))\\nsns.heatmap(np.isinf(df_books.select_dtypes(include=['number'])),\\n            yticklabels=False,\\n            cbar=False,\\n            cmap='viridis')\\nnp.isinf(df_books.select_dtypes(include=['number'])).sum()\""
      ]
     },
     "execution_count": 10,
     "metadata": {},
     "output_type": "execute_result"
    }
   ],
   "source": [
    "\"\"\"plt.figure(figsize=(3,2))\n",
    "sns.heatmap(np.isinf(df_books.select_dtypes(include=['number'])),\n",
    "            yticklabels=False,\n",
    "            cbar=False,\n",
    "            cmap='viridis')\n",
    "np.isinf(df_books.select_dtypes(include=['number'])).sum()\"\"\""
   ]
  },
  {
   "cell_type": "code",
   "execution_count": 11,
   "id": "dc1c675f-cd82-4a4a-974d-8b444eda61f8",
   "metadata": {},
   "outputs": [
    {
     "data": {
      "text/plain": [
       "User-ID        0\n",
       "Book-Rating    0\n",
       "dtype: int64"
      ]
     },
     "execution_count": 11,
     "metadata": {},
     "output_type": "execute_result"
    },
    {
     "data": {
      "image/png": "[encoded data removed]",
      "text/plain": [
       "<Figure size 300x200 with 1 Axes>"
      ]
     },
     "metadata": {},
     "output_type": "display_data"
    }
   ],
   "source": [
    "plt.figure(figsize=(3,2))\n",
    "sns.heatmap(np.isinf(df_ratings.select_dtypes(include=['number'])),\n",
    "            yticklabels=False,\n",
    "            cbar=False,\n",
    "            cmap='viridis')\n",
    "np.isinf(df_ratings.select_dtypes(include=['number'])).sum()"
   ]
  },
  {
   "cell_type": "code",
   "execution_count": 12,
   "id": "3e9e545f-084f-40bd-bf96-f3fcf30d14f6",
   "metadata": {},
   "outputs": [
    {
     "data": {
      "text/plain": [
       "User-ID    0\n",
       "Age        0\n",
       "dtype: int64"
      ]
     },
     "execution_count": 12,
     "metadata": {},
     "output_type": "execute_result"
    },
    {
     "data": {
      "image/png": "[encoded data removed]",
      "text/plain": [
       "<Figure size 300x200 with 1 Axes>"
      ]
     },
     "metadata": {},
     "output_type": "display_data"
    }
   ],
   "source": [
    "plt.figure(figsize=(3,2))\n",
    "sns.heatmap(np.isinf(df_users.select_dtypes(include=['number'])),\n",
    "            yticklabels=False,\n",
    "            cbar=False,\n",
    "            cmap='viridis')\n",
    "np.isinf(df_users.select_dtypes(include=['number'])).sum()"
   ]
  },
  {
   "cell_type": "markdown",
   "id": "b172dad3-d9cd-4a51-a2c2-c62fc21b494a",
   "metadata": {},
   "source": [
    "### Verificação de Dados Duplicados"
   ]
  },
  {
   "cell_type": "code",
   "execution_count": 14,
   "id": "b37e3c91-a5aa-499c-9418-b49fc7bb9ba5",
   "metadata": {},
   "outputs": [
    {
     "data": {
      "text/plain": [
       "0"
      ]
     },
     "execution_count": 14,
     "metadata": {},
     "output_type": "execute_result"
    }
   ],
   "source": [
    "df_books.duplicated().sum()"
   ]
  },
  {
   "cell_type": "code",
   "execution_count": 15,
   "id": "df935b5b-6e1a-4c68-ad5d-7ef1cb7bceea",
   "metadata": {},
   "outputs": [
    {
     "data": {
      "text/plain": [
       "0"
      ]
     },
     "execution_count": 15,
     "metadata": {},
     "output_type": "execute_result"
    }
   ],
   "source": [
    "df_ratings.duplicated().sum()"
   ]
  },
  {
   "cell_type": "code",
   "execution_count": 16,
   "id": "c9e3f398-f50e-4e4d-ad79-b8fc4e98dd3b",
   "metadata": {},
   "outputs": [
    {
     "data": {
      "text/plain": [
       "0"
      ]
     },
     "execution_count": 16,
     "metadata": {},
     "output_type": "execute_result"
    }
   ],
   "source": [
    "df_users.duplicated().sum()"
   ]
  },
  {
   "cell_type": "markdown",
   "id": "99518340-1ca9-46e0-8b0c-69d5c235d57e",
   "metadata": {},
   "source": [
    "### Unificando as bases"
   ]
  },
  {
   "cell_type": "code",
   "execution_count": 72,
   "id": "4eea528f-0a51-4b8f-a885-e3d3e315f17a",
   "metadata": {
    "scrolled": true
   },
   "outputs": [],
   "source": [
    "# Realizar o merge dos DataFrames na coluna 'User-ID'\n",
    "df_user_ratings = pd.merge(df_ratings, df_users, on='User-ID', how='left')"
   ]
  },
  {
   "cell_type": "code",
   "execution_count": 76,
   "id": "30804fc5-32b9-4026-806e-bdcd6a92b0d1",
   "metadata": {},
   "outputs": [
    {
     "data": {
      "text/html": [
       "<div>\n",
       "<style scoped>\n",
       "    .dataframe tbody tr th:only-of-type {\n",
       "        vertical-align: middle;\n",
       "    }\n",
       "\n",
       "    .dataframe tbody tr th {\n",
       "        vertical-align: top;\n",
       "    }\n",
       "\n",
       "    .dataframe thead th {\n",
       "        text-align: right;\n",
       "    }\n",
       "</style>\n",
       "<table border=\"1\" class=\"dataframe\">\n",
       "  <thead>\n",
       "    <tr style=\"text-align: right;\">\n",
       "      <th></th>\n",
       "      <th>User-ID</th>\n",
       "      <th>ISBN</th>\n",
       "      <th>Book-Rating</th>\n",
       "      <th>Location</th>\n",
       "      <th>Age</th>\n",
       "    </tr>\n",
       "  </thead>\n",
       "  <tbody>\n",
       "    <tr>\n",
       "      <th>1018540</th>\n",
       "      <td>244171</td>\n",
       "      <td>0802130208</td>\n",
       "      <td>0</td>\n",
       "      <td>moline, illinois, usa</td>\n",
       "      <td>51.0</td>\n",
       "    </tr>\n",
       "    <tr>\n",
       "      <th>784571</th>\n",
       "      <td>189835</td>\n",
       "      <td>0517092921</td>\n",
       "      <td>5</td>\n",
       "      <td>honolulu, hawaii, usa</td>\n",
       "      <td>NaN</td>\n",
       "    </tr>\n",
       "    <tr>\n",
       "      <th>171415</th>\n",
       "      <td>37227</td>\n",
       "      <td>002862825X</td>\n",
       "      <td>6</td>\n",
       "      <td>hamilton, ohio, usa</td>\n",
       "      <td>27.0</td>\n",
       "    </tr>\n",
       "    <tr>\n",
       "      <th>740521</th>\n",
       "      <td>178997</td>\n",
       "      <td>3442410665</td>\n",
       "      <td>0</td>\n",
       "      <td>würzburg, bayern, germany</td>\n",
       "      <td>33.0</td>\n",
       "    </tr>\n",
       "    <tr>\n",
       "      <th>877409</th>\n",
       "      <td>212740</td>\n",
       "      <td>0553576801</td>\n",
       "      <td>4</td>\n",
       "      <td>fort myers, florida, usa</td>\n",
       "      <td>NaN</td>\n",
       "    </tr>\n",
       "  </tbody>\n",
       "</table>\n",
       "</div>"
      ],
      "text/plain": [
       "         User-ID        ISBN  Book-Rating                   Location   Age\n",
       "1018540   244171  0802130208            0      moline, illinois, usa  51.0\n",
       "784571    189835  0517092921            5      honolulu, hawaii, usa   NaN\n",
       "171415     37227  002862825X            6        hamilton, ohio, usa  27.0\n",
       "740521    178997  3442410665            0  würzburg, bayern, germany  33.0\n",
       "877409    212740  0553576801            4   fort myers, florida, usa   NaN"
      ]
     },
     "metadata": {},
     "output_type": "display_data"
    }
   ],
   "source": [
    "display(df_user_ratings.sample(5))"
   ]
  },
  {
   "cell_type": "code",
   "execution_count": 78,
   "id": "37de065c-31f2-47ac-8320-571cbd24a23e",
   "metadata": {
    "scrolled": true
   },
   "outputs": [
    {
     "data": {
      "text/html": [
       "<div>\n",
       "<style scoped>\n",
       "    .dataframe tbody tr th:only-of-type {\n",
       "        vertical-align: middle;\n",
       "    }\n",
       "\n",
       "    .dataframe tbody tr th {\n",
       "        vertical-align: top;\n",
       "    }\n",
       "\n",
       "    .dataframe thead th {\n",
       "        text-align: right;\n",
       "    }\n",
       "</style>\n",
       "<table border=\"1\" class=\"dataframe\">\n",
       "  <thead>\n",
       "    <tr style=\"text-align: right;\">\n",
       "      <th></th>\n",
       "      <th>ISBN</th>\n",
       "      <th>Book-Title</th>\n",
       "      <th>Book-Author</th>\n",
       "      <th>Year-Of-Publication</th>\n",
       "      <th>Publisher</th>\n",
       "    </tr>\n",
       "  </thead>\n",
       "  <tbody>\n",
       "    <tr>\n",
       "      <th>268803</th>\n",
       "      <td>9053330313</td>\n",
       "      <td>De dikke man</td>\n",
       "      <td>Ischa Meijer</td>\n",
       "      <td>1991</td>\n",
       "      <td>Prometheus</td>\n",
       "    </tr>\n",
       "    <tr>\n",
       "      <th>162977</th>\n",
       "      <td>0835605612</td>\n",
       "      <td>Shaman and the Medicine Wheel</td>\n",
       "      <td>Evelyn Eaton</td>\n",
       "      <td>1982</td>\n",
       "      <td>Quest Books (IL)</td>\n",
       "    </tr>\n",
       "    <tr>\n",
       "      <th>48409</th>\n",
       "      <td>0345340833</td>\n",
       "      <td>Adrift: Seventy-Six Days Lost at Sea</td>\n",
       "      <td>Steven Callahan</td>\n",
       "      <td>1991</td>\n",
       "      <td>Ballantine Books</td>\n",
       "    </tr>\n",
       "    <tr>\n",
       "      <th>109817</th>\n",
       "      <td>0609604074</td>\n",
       "      <td>Trans-Sister Radio</td>\n",
       "      <td>Chris A.  Bohjalian</td>\n",
       "      <td>2000</td>\n",
       "      <td>Harmony Books</td>\n",
       "    </tr>\n",
       "    <tr>\n",
       "      <th>240089</th>\n",
       "      <td>1862322929</td>\n",
       "      <td>A Cup Of Kindness: A History Of The Royal Scot...</td>\n",
       "      <td>Justine Taylor</td>\n",
       "      <td>2004</td>\n",
       "      <td>Tuckwell Press</td>\n",
       "    </tr>\n",
       "  </tbody>\n",
       "</table>\n",
       "</div>"
      ],
      "text/plain": [
       "              ISBN                                         Book-Title  \\\n",
       "268803  9053330313                                       De dikke man   \n",
       "162977  0835605612                      Shaman and the Medicine Wheel   \n",
       "48409   0345340833               Adrift: Seventy-Six Days Lost at Sea   \n",
       "109817  0609604074                                 Trans-Sister Radio   \n",
       "240089  1862322929  A Cup Of Kindness: A History Of The Royal Scot...   \n",
       "\n",
       "                Book-Author Year-Of-Publication         Publisher  \n",
       "268803         Ischa Meijer                1991        Prometheus  \n",
       "162977         Evelyn Eaton                1982  Quest Books (IL)  \n",
       "48409       Steven Callahan                1991  Ballantine Books  \n",
       "109817  Chris A.  Bohjalian                2000     Harmony Books  \n",
       "240089       Justine Taylor                2004    Tuckwell Press  "
      ]
     },
     "metadata": {},
     "output_type": "display_data"
    }
   ],
   "source": [
    "display(df_books.sample(5))"
   ]
  },
  {
   "cell_type": "code",
   "execution_count": 19,
   "id": "7709e2cb-9b94-48e5-ba4b-e7672e39f944",
   "metadata": {},
   "outputs": [
    {
     "data": {
      "text/plain": [
       "User-ID\n",
       "11676     13602\n",
       "198711     7550\n",
       "153662     6109\n",
       "98391      5891\n",
       "35859      5850\n",
       "212898     4785\n",
       "278418     4533\n",
       "76352      3367\n",
       "110973     3100\n",
       "235105     3067\n",
       "Name: count, dtype: int64"
      ]
     },
     "execution_count": 19,
     "metadata": {},
     "output_type": "execute_result"
    }
   ],
   "source": [
    "df_ratings['User-ID'].value_counts().head(10)"
   ]
  },
  {
   "cell_type": "code",
   "execution_count": 20,
   "id": "0648c83c-691a-4af1-b494-9c5ac0d503fd",
   "metadata": {},
   "outputs": [
    {
     "name": "stdout",
     "output_type": "stream",
     "text": [
      "<class 'pandas.core.frame.DataFrame'>\n",
      "RangeIndex: 278858 entries, 0 to 278857\n",
      "Data columns (total 3 columns):\n",
      " #   Column    Non-Null Count   Dtype  \n",
      "---  ------    --------------   -----  \n",
      " 0   User-ID   278858 non-null  int64  \n",
      " 1   Location  278858 non-null  object \n",
      " 2   Age       168096 non-null  float64\n",
      "dtypes: float64(1), int64(1), object(1)\n",
      "memory usage: 6.4+ MB\n"
     ]
    }
   ],
   "source": [
    "df_users.info()"
   ]
  },
  {
   "cell_type": "code",
   "execution_count": null,
   "id": "8e6ed64c-aad0-4c9d-b387-7b76d51e5727",
   "metadata": {},
   "outputs": [],
   "source": [
    "my_list = []\n",
    "my_list"
   ]
  },
  {
   "cell_type": "code",
   "execution_count": 21,
   "id": "df642212-bca6-42d5-b3a2-99d0dde43540",
   "metadata": {},
   "outputs": [
    {
     "name": "stdout",
     "output_type": "stream",
     "text": [
      "<class 'pandas.core.frame.DataFrame'>\n",
      "RangeIndex: 1149780 entries, 0 to 1149779\n",
      "Data columns (total 5 columns):\n",
      " #   Column       Non-Null Count    Dtype  \n",
      "---  ------       --------------    -----  \n",
      " 0   User-ID      1149780 non-null  int64  \n",
      " 1   ISBN         1149780 non-null  object \n",
      " 2   Book-Rating  1149780 non-null  int64  \n",
      " 3   Location     1149780 non-null  object \n",
      " 4   Age          840288 non-null   float64\n",
      "dtypes: float64(1), int64(2), object(2)\n",
      "memory usage: 43.9+ MB\n"
     ]
    },
    {
     "data": {
      "text/plain": [
       "None"
      ]
     },
     "metadata": {},
     "output_type": "display_data"
    }
   ],
   "source": [
    "display(df_user_ratings.info())"
   ]
  },
  {
   "cell_type": "code",
   "execution_count": null,
   "id": "bededcc1-903f-4744-a098-271a0a1898bf",
   "metadata": {},
   "outputs": [],
   "source": []
  },
  {
   "cell_type": "code",
   "execution_count": null,
   "id": "5df333e9-f7ad-4ed6-ad49-b8a414946e1e",
   "metadata": {},
   "outputs": [],
   "source": []
  },
  {
   "cell_type": "code",
   "execution_count": null,
   "id": "ec5ee0b0-ee0f-4a51-834d-2f9daefb0dc7",
   "metadata": {},
   "outputs": [],
   "source": []
  },
  {
   "cell_type": "code",
   "execution_count": null,
   "id": "1022e8a1-4a6c-4e81-a367-66e43e9010b5",
   "metadata": {},
   "outputs": [],
   "source": []
  }
 ],
 "metadata": {
  "kernelspec": {
   "display_name": "Python 3 (ipykernel)",
   "language": "python",
   "name": "python3"
  },
  "language_info": {
   "codemirror_mode": {
    "name": "ipython",
    "version": 3
   },
   "file_extension": ".py",
   "mimetype": "text/x-python",
   "name": "python",
   "nbconvert_exporter": "python",
   "pygments_lexer": "ipython3",
   "version": "3.12.4"
  }
 },
 "nbformat": 4,
 "nbformat_minor": 5
}
